{
  "nbformat": 4,
  "nbformat_minor": 0,
  "metadata": {
    "colab": {
      "name": "quiz.py",
      "provenance": [],
      "authorship_tag": "ABX9TyNdYyVrIZRmwUzkl9WtCWLx",
      "include_colab_link": true
    },
    "kernelspec": {
      "name": "python3",
      "display_name": "Python 3"
    },
    "language_info": {
      "name": "python"
    }
  },
  "cells": [
    {
      "cell_type": "markdown",
      "metadata": {
        "id": "view-in-github",
        "colab_type": "text"
      },
      "source": [
        "<a href=\"https://colab.research.google.com/github/Reeshab/Assignment-2/blob/main/quiz_py.ipynb\" target=\"_parent\"><img src=\"https://colab.research.google.com/assets/colab-badge.svg\" alt=\"Open In Colab\"/></a>"
      ]
    },
    {
      "cell_type": "code",
      "execution_count": 22,
      "metadata": {
        "id": "mxfayBB2m3qa"
      },
      "outputs": [],
      "source": [
        "def check_guess(guess, answer):\n",
        "  global score\n",
        "  still_guessing =  True\n",
        "  attempt = 0\n",
        "\n",
        "  while still_guessing and attempt < 3:\n",
        "    if guess.lower() == answer.lower():\n",
        "      print(\"Correct Answer\")\n",
        "      score = score + 1\n",
        "      still_guessing = False\n",
        "  else:\n",
        "    if attempt < 2:\n",
        "      guess = input(\"Sorry Wrong answer, try again\")\n",
        "    attempt = attempt + 1\n",
        "  if attempt == 3:\n",
        "    print(\"The correct answer is \", answer)\n",
        "\n",
        "    score = 0\n",
        "    print(\"Guess the Animal\")\n",
        "    guess1 = input(\"Which bear lives at North Pole? \")\n",
        "    check_guess(guess1, \"polar beer\")\n",
        "    guess2 = input(\"Which is the fastest land animal? \")\n",
        "    check_guess(guess2 , \"Cheetah\")\n",
        "    guess3 = input(\"Which is the largest animal?\")\n",
        "    check_guess(guess3, \"Dinosour\")\n",
        "    print(\"Your Score is \"+ str(score))\n"
      ]
    },
    {
      "cell_type": "code",
      "source": [
        ""
      ],
      "metadata": {
        "id": "ruatlbBlm7aR"
      },
      "execution_count": null,
      "outputs": []
    },
    {
      "cell_type": "code",
      "source": [
        ""
      ],
      "metadata": {
        "id": "iE88XDILm7dI"
      },
      "execution_count": null,
      "outputs": []
    },
    {
      "cell_type": "code",
      "source": [
        ""
      ],
      "metadata": {
        "id": "46yrACTqm7f5"
      },
      "execution_count": null,
      "outputs": []
    },
    {
      "cell_type": "code",
      "source": [
        ""
      ],
      "metadata": {
        "id": "QhhLWnoum7iv"
      },
      "execution_count": null,
      "outputs": []
    },
    {
      "cell_type": "code",
      "source": [
        ""
      ],
      "metadata": {
        "id": "VUSvRiAum7lX"
      },
      "execution_count": null,
      "outputs": []
    },
    {
      "cell_type": "code",
      "source": [
        ""
      ],
      "metadata": {
        "id": "GjwOqQRnm7n-"
      },
      "execution_count": null,
      "outputs": []
    },
    {
      "cell_type": "code",
      "source": [
        ""
      ],
      "metadata": {
        "id": "B4-m3orom7rd"
      },
      "execution_count": null,
      "outputs": []
    }
  ]
}